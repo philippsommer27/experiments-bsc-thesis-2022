{
 "cells": [
  {
   "cell_type": "markdown",
   "metadata": {},
   "source": [
    "## Setup"
   ]
  },
  {
   "cell_type": "code",
   "execution_count": 1,
   "metadata": {},
   "outputs": [],
   "source": [
    "from eesr import interface\n",
    "from pandas import Timestamp, DataFrame\n",
    "import pickle\n",
    "import os\n",
    "import warnings\n",
    "import timeit\n",
    "warnings.filterwarnings(\"ignore\")\n",
    "\n",
    "from time import process_time, perf_counter"
   ]
  },
  {
   "cell_type": "markdown",
   "metadata": {},
   "source": [
    "#### Enviroment Info "
   ]
  },
  {
   "cell_type": "code",
   "execution_count": 2,
   "metadata": {},
   "outputs": [
    {
     "name": "stdout",
     "output_type": "stream",
     "text": [
      "Python implementation: CPython\n",
      "Python version       : 3.10.2\n",
      "IPython version      : 8.1.1\n",
      "\n",
      "Compiler    : MSC v.1929 64 bit (AMD64)\n",
      "OS          : Windows\n",
      "Release     : 10\n",
      "Machine     : AMD64\n",
      "Processor   : Intel64 Family 6 Model 60 Stepping 3, GenuineIntel\n",
      "CPU cores   : 8\n",
      "Architecture: 64bit\n",
      "\n"
     ]
    }
   ],
   "source": [
    "%load_ext watermark\n",
    "%watermark -v -m"
   ]
  },
  {
   "cell_type": "markdown",
   "metadata": {},
   "source": [
    "## Timing Start"
   ]
  },
  {
   "cell_type": "code",
   "execution_count": 3,
   "metadata": {},
   "outputs": [],
   "source": [
    "process_start = process_time()\n",
    "perf_start = perf_counter()"
   ]
  },
  {
   "cell_type": "code",
   "execution_count": 4,
   "metadata": {},
   "outputs": [],
   "source": [
    "# Globals\n",
    "dc_trace = \"Input\\opendc_out.csv\"\n",
    "key_path = \"Input\\entsoe_token.txt\"\n",
    "results_pre_path = \"Results\"\n"
   ]
  },
  {
   "cell_type": "code",
   "execution_count": 5,
   "metadata": {},
   "outputs": [],
   "source": [
    "def run_experiment(name, start: Timestamp, country=\"NL\", tz=\"Europe/Amsterdam\", caching=True, green_ratio=None, subname=None, make_out=True, PUE=1.59):\n",
    "    if subname is None:\n",
    "        path = os.path.join(results_pre_path, name)\n",
    "    else:\n",
    "        path = os.path.join(results_pre_path, name, subname)\n",
    "    exists = os.path.exists(path)\n",
    "    if not exists:\n",
    "        os.makedirs(path)\n",
    "    \n",
    "    def store_df(df: DataFrame):\n",
    "        pickle_path = os.path.join(path, \"df.pkl\")\n",
    "        df.to_pickle(pickle_path)\n",
    "\n",
    "    results = os.path.join(path, \"results.json\")\n",
    "    df = interface.opendc_grid_analysis(dc_trace, key_path, start, country, results, tz, caching, green_ratio, PUE=PUE)\n",
    "\n",
    "    if make_out:\n",
    "        store_df(df)\n",
    "\n",
    "        report_path = os.path.join(path, \"report.html\")\n",
    "        report = interface.generate_compact_profile(results, \"sus_prof\", report_path, True)\n",
    "        interface.to_image(report)"
   ]
  },
  {
   "cell_type": "markdown",
   "metadata": {},
   "source": [
    "# Main Experiments"
   ]
  },
  {
   "cell_type": "markdown",
   "metadata": {},
   "source": [
    "## 1 Caching Performance"
   ]
  },
  {
   "cell_type": "markdown",
   "metadata": {},
   "source": [
    "#### Timing no cache"
   ]
  },
  {
   "cell_type": "code",
   "execution_count": 6,
   "metadata": {},
   "outputs": [],
   "source": [
    "%%timeit -n 1 -r 4\n",
    "start = Timestamp(year=2020, month=9, day=4, hour=15, tz=\"Europe/Amsterdam\")\n",
    "run_experiment(\"caching\", start, caching=False, make_out=False)"
   ]
  },
  {
   "cell_type": "markdown",
   "metadata": {},
   "source": [
    "#### Timing cache"
   ]
  },
  {
   "cell_type": "code",
   "execution_count": 7,
   "metadata": {},
   "outputs": [],
   "source": [
    "%%timeit -n 1 -r 4\n",
    "start = Timestamp(year=2020, month=9, day=4, hour=15, tz=\"Europe/Amsterdam\")\n",
    "run_experiment(\"caching\", start, caching=True, make_out=False)"
   ]
  },
  {
   "cell_type": "markdown",
   "metadata": {},
   "source": [
    "#### Bandwidth savings (with wireshark)"
   ]
  },
  {
   "cell_type": "code",
   "execution_count": 8,
   "metadata": {},
   "outputs": [],
   "source": [
    "start = Timestamp(year=2020, month=9, day=4, hour=15, tz=\"Europe/Amsterdam\")\n",
    "run_experiment(\"caching\", start, caching=False, make_out=False)"
   ]
  },
  {
   "cell_type": "markdown",
   "metadata": {},
   "source": [
    "## 2 Baseline: Assume Proportional to Grid Production"
   ]
  },
  {
   "cell_type": "code",
   "execution_count": 9,
   "metadata": {},
   "outputs": [
    {
     "name": "stdout",
     "output_type": "stream",
     "text": [
      "Only one level for prod fetch\n",
      "Only one level for prod fetch\n",
      "Only one level for prod fetch\n",
      "fail type object 'Text' has no attribute '_getElementById'\n",
      "fail type object 'Text' has no attribute '_getElementById'\n",
      "fail type object 'Text' has no attribute '_getElementById'\n",
      "fail type object 'Text' has no attribute '_getElementById'\n",
      "fail type object 'Text' has no attribute '_getElementById'\n",
      "fail type object 'Text' has no attribute '_getElementById'\n",
      "fail type object 'Text' has no attribute '_getElementById'\n",
      "fail type object 'Text' has no attribute '_getElementById'\n"
     ]
    }
   ],
   "source": [
    "start = Timestamp(year=2020, month=9, day=4, hour=15, tz=\"Europe/Amsterdam\")\n",
    "run_experiment(\"baseline\", start)"
   ]
  },
  {
   "cell_type": "markdown",
   "metadata": {},
   "source": [
    "## 3 Optimistic: Assume 88% Green"
   ]
  },
  {
   "cell_type": "code",
   "execution_count": 10,
   "metadata": {},
   "outputs": [
    {
     "name": "stdout",
     "output_type": "stream",
     "text": [
      "Only one level for prod fetch\n",
      "Only one level for prod fetch\n",
      "Only one level for prod fetch\n",
      "fail type object 'Text' has no attribute '_getElementById'\n",
      "fail type object 'Text' has no attribute '_getElementById'\n",
      "fail type object 'Text' has no attribute '_getElementById'\n",
      "fail type object 'Text' has no attribute '_getElementById'\n",
      "fail type object 'Text' has no attribute '_getElementById'\n",
      "fail type object 'Text' has no attribute '_getElementById'\n",
      "fail type object 'Text' has no attribute '_getElementById'\n",
      "fail type object 'Text' has no attribute '_getElementById'\n"
     ]
    }
   ],
   "source": [
    "start = Timestamp(year=2020, month=9, day=4, hour=15, tz=\"Europe/Amsterdam\")\n",
    "run_experiment(\"optimistic\", start, green_ratio=0.88)"
   ]
  },
  {
   "cell_type": "markdown",
   "metadata": {},
   "source": [
    "## 4 Seasonal Comparison"
   ]
  },
  {
   "cell_type": "code",
   "execution_count": 11,
   "metadata": {},
   "outputs": [
    {
     "name": "stdout",
     "output_type": "stream",
     "text": [
      "Only one level for prod fetch\n",
      "Only one level for prod fetch\n",
      "Only one level for prod fetch\n",
      "fail type object 'Text' has no attribute '_getElementById'\n",
      "fail type object 'Text' has no attribute '_getElementById'\n",
      "fail type object 'Text' has no attribute '_getElementById'\n",
      "fail type object 'Text' has no attribute '_getElementById'\n",
      "fail type object 'Text' has no attribute '_getElementById'\n",
      "fail type object 'Text' has no attribute '_getElementById'\n",
      "fail type object 'Text' has no attribute '_getElementById'\n",
      "fail type object 'Text' has no attribute '_getElementById'\n",
      "Only one level for prod fetch\n",
      "Only one level for prod fetch\n",
      "Only one level for prod fetch\n",
      "fail type object 'Text' has no attribute '_getElementById'\n",
      "fail type object 'Text' has no attribute '_getElementById'\n",
      "fail type object 'Text' has no attribute '_getElementById'\n",
      "fail type object 'Text' has no attribute '_getElementById'\n",
      "fail type object 'Text' has no attribute '_getElementById'\n",
      "fail type object 'Text' has no attribute '_getElementById'\n",
      "fail type object 'Text' has no attribute '_getElementById'\n",
      "fail type object 'Text' has no attribute '_getElementById'\n",
      "Only one level for prod fetch\n",
      "Only one level for prod fetch\n",
      "Only one level for prod fetch\n",
      "fail type object 'Text' has no attribute '_getElementById'\n",
      "fail type object 'Text' has no attribute '_getElementById'\n",
      "fail type object 'Text' has no attribute '_getElementById'\n",
      "fail type object 'Text' has no attribute '_getElementById'\n",
      "fail type object 'Text' has no attribute '_getElementById'\n",
      "fail type object 'Text' has no attribute '_getElementById'\n",
      "fail type object 'Text' has no attribute '_getElementById'\n",
      "fail type object 'Text' has no attribute '_getElementById'\n",
      "Only one level for prod fetch\n",
      "Only one level for prod fetch\n",
      "Only one level for prod fetch\n",
      "fail type object 'Text' has no attribute '_getElementById'\n",
      "fail type object 'Text' has no attribute '_getElementById'\n",
      "fail type object 'Text' has no attribute '_getElementById'\n",
      "fail type object 'Text' has no attribute '_getElementById'\n",
      "fail type object 'Text' has no attribute '_getElementById'\n",
      "fail type object 'Text' has no attribute '_getElementById'\n",
      "fail type object 'Text' has no attribute '_getElementById'\n",
      "fail type object 'Text' has no attribute '_getElementById'\n"
     ]
    }
   ],
   "source": [
    "for i in range(0, 12, 3):\n",
    "    month = 1 + i\n",
    "    start = Timestamp(year=2020, month=month, day=1, hour=15, tz=\"Europe/Amsterdam\")\n",
    "    run_experiment(\"season\", start, subname=str(month))"
   ]
  },
  {
   "cell_type": "markdown",
   "metadata": {},
   "source": [
    "## 5 Yearly Comparison"
   ]
  },
  {
   "cell_type": "code",
   "execution_count": 12,
   "metadata": {},
   "outputs": [
    {
     "name": "stdout",
     "output_type": "stream",
     "text": [
      "Only one level for prod fetch\n",
      "Only one level for prod fetch\n",
      "fail type object 'Text' has no attribute '_getElementById'\n",
      "fail type object 'Text' has no attribute '_getElementById'\n",
      "fail type object 'Text' has no attribute '_getElementById'\n",
      "fail type object 'Text' has no attribute '_getElementById'\n",
      "fail type object 'Text' has no attribute '_getElementById'\n",
      "fail type object 'Text' has no attribute '_getElementById'\n",
      "fail type object 'Text' has no attribute '_getElementById'\n",
      "fail type object 'Text' has no attribute '_getElementById'\n",
      "Only one level for prod fetch\n",
      "Only one level for prod fetch\n",
      "fail type object 'Text' has no attribute '_getElementById'\n",
      "fail type object 'Text' has no attribute '_getElementById'\n",
      "fail type object 'Text' has no attribute '_getElementById'\n",
      "fail type object 'Text' has no attribute '_getElementById'\n",
      "fail type object 'Text' has no attribute '_getElementById'\n",
      "fail type object 'Text' has no attribute '_getElementById'\n",
      "fail type object 'Text' has no attribute '_getElementById'\n",
      "fail type object 'Text' has no attribute '_getElementById'\n",
      "Only one level for prod fetch\n",
      "Only one level for prod fetch\n",
      "fail type object 'Text' has no attribute '_getElementById'\n",
      "fail type object 'Text' has no attribute '_getElementById'\n",
      "fail type object 'Text' has no attribute '_getElementById'\n",
      "fail type object 'Text' has no attribute '_getElementById'\n",
      "fail type object 'Text' has no attribute '_getElementById'\n",
      "fail type object 'Text' has no attribute '_getElementById'\n",
      "fail type object 'Text' has no attribute '_getElementById'\n",
      "fail type object 'Text' has no attribute '_getElementById'\n",
      "Only one level for prod fetch\n",
      "Only one level for prod fetch\n",
      "fail type object 'Text' has no attribute '_getElementById'\n",
      "fail type object 'Text' has no attribute '_getElementById'\n",
      "fail type object 'Text' has no attribute '_getElementById'\n",
      "fail type object 'Text' has no attribute '_getElementById'\n",
      "fail type object 'Text' has no attribute '_getElementById'\n",
      "fail type object 'Text' has no attribute '_getElementById'\n",
      "fail type object 'Text' has no attribute '_getElementById'\n",
      "fail type object 'Text' has no attribute '_getElementById'\n",
      "Only one level for prod fetch\n",
      "Only one level for prod fetch\n",
      "Only one level for prod fetch\n",
      "fail type object 'Text' has no attribute '_getElementById'\n",
      "fail type object 'Text' has no attribute '_getElementById'\n",
      "fail type object 'Text' has no attribute '_getElementById'\n",
      "fail type object 'Text' has no attribute '_getElementById'\n",
      "fail type object 'Text' has no attribute '_getElementById'\n",
      "fail type object 'Text' has no attribute '_getElementById'\n",
      "fail type object 'Text' has no attribute '_getElementById'\n",
      "fail type object 'Text' has no attribute '_getElementById'\n"
     ]
    }
   ],
   "source": [
    "pue = {\n",
    "    2016 : 1.6,\n",
    "    2017 : 1.59,\n",
    "    2018: 1.58,\n",
    "    2019: 1.67,\n",
    "    2020: 1.59\n",
    "}\n",
    "\n",
    "for i in range(5):\n",
    "    year = 2016 + i\n",
    "    start = Timestamp(year=year, month=9, day=4, hour=15, tz=\"Europe/Amsterdam\")\n",
    "    run_experiment(\"yearly\", start, subname=str(year), PUE=pue[year])"
   ]
  },
  {
   "cell_type": "markdown",
   "metadata": {},
   "source": [
    "## 6 Different Countries"
   ]
  },
  {
   "cell_type": "code",
   "execution_count": 13,
   "metadata": {},
   "outputs": [
    {
     "name": "stdout",
     "output_type": "stream",
     "text": [
      "Only one level for prod fetch\n",
      "Only one level for prod fetch\n",
      "fail type object 'Text' has no attribute '_getElementById'\n",
      "fail type object 'Text' has no attribute '_getElementById'\n",
      "fail type object 'Text' has no attribute '_getElementById'\n",
      "fail type object 'Text' has no attribute '_getElementById'\n",
      "fail type object 'Text' has no attribute '_getElementById'\n",
      "fail type object 'Text' has no attribute '_getElementById'\n",
      "fail type object 'Text' has no attribute '_getElementById'\n",
      "fail type object 'Text' has no attribute '_getElementById'\n",
      "Only one level for prod fetch\n",
      "fail type object 'Text' has no attribute '_getElementById'\n",
      "fail type object 'Text' has no attribute '_getElementById'\n",
      "fail type object 'Text' has no attribute '_getElementById'\n",
      "fail type object 'Text' has no attribute '_getElementById'\n",
      "fail type object 'Text' has no attribute '_getElementById'\n",
      "fail type object 'Text' has no attribute '_getElementById'\n",
      "fail type object 'Text' has no attribute '_getElementById'\n",
      "fail type object 'Text' has no attribute '_getElementById'\n",
      "Only one level for prod fetch\n",
      "Only one level for prod fetch\n",
      "Only one level for prod fetch\n",
      "Only one level for prod fetch\n",
      "Only one level for prod fetch\n",
      "fail type object 'Text' has no attribute '_getElementById'\n",
      "fail type object 'Text' has no attribute '_getElementById'\n",
      "fail type object 'Text' has no attribute '_getElementById'\n",
      "fail type object 'Text' has no attribute '_getElementById'\n",
      "fail type object 'Text' has no attribute '_getElementById'\n",
      "fail type object 'Text' has no attribute '_getElementById'\n",
      "fail type object 'Text' has no attribute '_getElementById'\n",
      "fail type object 'Text' has no attribute '_getElementById'\n",
      "Only one level for prod fetch\n",
      "fail type object 'Text' has no attribute '_getElementById'\n",
      "fail type object 'Text' has no attribute '_getElementById'\n",
      "fail type object 'Text' has no attribute '_getElementById'\n",
      "fail type object 'Text' has no attribute '_getElementById'\n",
      "fail type object 'Text' has no attribute '_getElementById'\n",
      "fail type object 'Text' has no attribute '_getElementById'\n",
      "fail type object 'Text' has no attribute '_getElementById'\n",
      "fail type object 'Text' has no attribute '_getElementById'\n",
      "Only one level for prod fetch\n",
      "Only one level for prod fetch\n",
      "Only one level for prod fetch\n",
      "Only one level for prod fetch\n",
      "Only one level for prod fetch\n",
      "Only one level for prod fetch\n",
      "fail type object 'Text' has no attribute '_getElementById'\n",
      "fail type object 'Text' has no attribute '_getElementById'\n",
      "fail type object 'Text' has no attribute '_getElementById'\n",
      "fail type object 'Text' has no attribute '_getElementById'\n",
      "fail type object 'Text' has no attribute '_getElementById'\n",
      "fail type object 'Text' has no attribute '_getElementById'\n",
      "fail type object 'Text' has no attribute '_getElementById'\n",
      "fail type object 'Text' has no attribute '_getElementById'\n"
     ]
    }
   ],
   "source": [
    "countries = {\n",
    "    \"FR\" : \"Europe/Paris\",\n",
    "    \"GB\" : \"Europe/London\",\n",
    "    \"SE_3\" : \"Europe/Stockholm\",\n",
    "    \"BE\" : \"Europe/Brussels\",\n",
    "    \"DE_LU\" : \"Europe/Berlin\"\n",
    "}\n",
    "\n",
    "for country in countries.keys():\n",
    "    start = Timestamp(year=2020, month=9, day=4, hour=15, tz=countries[country])\n",
    "    run_experiment(\"countries\", start, country, countries[country], subname=country)"
   ]
  },
  {
   "cell_type": "markdown",
   "metadata": {},
   "source": [
    "## Timing End"
   ]
  },
  {
   "cell_type": "code",
   "execution_count": 14,
   "metadata": {},
   "outputs": [],
   "source": [
    "perf_elapsed_time = perf_counter() - perf_start\n",
    "process_elapsed_time = process_time() - process_start\n",
    "\n",
    "write_path = os.path.join(results_pre_path, 'experiment_timing.txt')\n",
    "with open(write_path, 'w') as f:\n",
    "    f.write(f\"System time: {perf_elapsed_time} \\n\")\n",
    "    f.write(f\"Process time: {process_elapsed_time}\")"
   ]
  }
 ],
 "metadata": {
  "kernelspec": {
   "display_name": "Python 3.10.2 64-bit",
   "language": "python",
   "name": "python3"
  },
  "language_info": {
   "codemirror_mode": {
    "name": "ipython",
    "version": 3
   },
   "file_extension": ".py",
   "mimetype": "text/x-python",
   "name": "python",
   "nbconvert_exporter": "python",
   "pygments_lexer": "ipython3",
   "version": "3.10.2"
  },
  "orig_nbformat": 4,
  "vscode": {
   "interpreter": {
    "hash": "369f2c481f4da34e4445cda3fffd2e751bd1c4d706f27375911949ba6bb62e1c"
   }
  }
 },
 "nbformat": 4,
 "nbformat_minor": 2
}
